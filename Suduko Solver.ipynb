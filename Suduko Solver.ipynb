{
 "cells": [
  {
   "cell_type": "code",
   "execution_count": 2,
   "metadata": {},
   "outputs": [],
   "source": [
    "import numpy as np\n",
    "import pandas as pd\n",
    "import ortools\n",
    "from ortools.linear_solver import pywraplp\n",
    "import itertools"
   ]
  },
  {
   "cell_type": "code",
   "execution_count": 3,
   "metadata": {},
   "outputs": [],
   "source": [
    "# define fixed puzzle values\n",
    "initialBoard = np.array(pd.read_csv('initialBoard.csv',header=None))"
   ]
  },
  {
   "cell_type": "code",
   "execution_count": 4,
   "metadata": {},
   "outputs": [],
   "source": [
    "# declare solver\n",
    "solver = pywraplp.Solver('SolveIntegerProblem',\n",
    "                           pywraplp.Solver.CBC_MIXED_INTEGER_PROGRAMMING)\n",
    "\n",
    "# decision variables\n",
    "# row i, column j, value k\n",
    "x = np.zeros((9,9,9)).astype('object')\n",
    "for i in range(9):\n",
    "    for j in range(9):\n",
    "        for k in range(9):\n",
    "            if initialBoard[i,j] == 0:\n",
    "                x[i,j,k] = solver.IntVar(0, 1, 'x'+str(i)+str(j)+str(k))\n",
    "            else:\n",
    "                x[i,j,k] = int(initialBoard[i,j] == k + 1)\n",
    "\n",
    "# constraint for no row repeats\n",
    "for j in range(9):\n",
    "    for k in range(9):\n",
    "        solver.Add(np.sum(x[:,j,k]) == 1)\n",
    "\n",
    "# constraint to ensure all numbers used\n",
    "for i in range(9):\n",
    "    for j in range(9):\n",
    "        solver.Add(np.sum(x[i,j,:]) == 1)\n",
    "\n",
    "# constraint for no column repeats\n",
    "for i in range(9):\n",
    "    for k in range(9):\n",
    "        solver.Add(np.sum(x[i,:,k]) == 1)\n",
    "\n",
    "# no cell repeats\n",
    "for k in range(9):\n",
    "    for p in range(1,4):\n",
    "        for q in range(1,4):\n",
    "            io=(3*q-2)-1\n",
    "            ie=(3*q)\n",
    "            jo=(3*p-2)-1\n",
    "            je=(3*p)\n",
    "            val_sum = np.sum(x[io:ie,jo:je,k])\n",
    "            solver.Add(val_sum==1)\n",
    "# arbitrary objective\n",
    "solver.Minimize(np.sum(x))\n"
   ]
  },
  {
   "cell_type": "code",
   "execution_count": 5,
   "metadata": {},
   "outputs": [],
   "source": [
    "\"\"\"Solve the problem\"\"\"\n",
    "result_status = solver.Solve()"
   ]
  },
  {
   "cell_type": "code",
   "execution_count": 6,
   "metadata": {},
   "outputs": [],
   "source": [
    "# pull the results from or-tools objects\n",
    "finalBoard = np.zeros((9,9)).astype('object')\n",
    "x_result=np.zeros((9,9,9))\n",
    "for i in range(9):\n",
    "    for j in range(9):\n",
    "        for k in range(9):\n",
    "            if isinstance(x[i,j,k],int):\n",
    "                x_result[i,j,k] = x[i,j,k]*(k+1)\n",
    "            else:\n",
    "                x_result[i,j,k] = x[i,j,k].solution_value()*(k+1)\n",
    "finalBoard = np.sum(x_result,axis=2)            "
   ]
  },
  {
   "cell_type": "code",
   "execution_count": 7,
   "metadata": {},
   "outputs": [],
   "source": [
    "# print solution to file\n",
    "df = pd.DataFrame(finalBoard)\n",
    "df.to_csv(\"finalBoard.csv\",index=False,header=False)"
   ]
  }
 ],
 "metadata": {
  "kernelspec": {
   "display_name": "Python 3",
   "language": "python",
   "name": "python3"
  },
  "language_info": {
   "codemirror_mode": {
    "name": "ipython",
    "version": 3
   },
   "file_extension": ".py",
   "mimetype": "text/x-python",
   "name": "python",
   "nbconvert_exporter": "python",
   "pygments_lexer": "ipython3",
   "version": "3.6.8rc1"
  }
 },
 "nbformat": 4,
 "nbformat_minor": 2
}
